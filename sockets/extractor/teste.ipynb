{
 "cells": [
  {
   "cell_type": "code",
   "execution_count": 1,
   "metadata": {},
   "outputs": [],
   "source": [
    "import re\n",
    "import Levenshtein\n",
    "import json"
   ]
  },
  {
   "cell_type": "code",
   "execution_count": 2,
   "metadata": {},
   "outputs": [],
   "source": [
    "def find_similar_words(word_list, separate_word, k):\n",
    "    lower_separate_word = separate_word.lower()\n",
    "    \n",
    "    # Find words that are similar to the separate_word within the given degree of difference (k)\n",
    "    similar_words = [word for word in word_list if Levenshtein.distance(word.lower(), lower_separate_word) <= k]\n",
    "    \n",
    "    return similar_words\n"
   ]
  },
  {
   "cell_type": "code",
   "execution_count": 3,
   "metadata": {},
   "outputs": [],
   "source": [
    "fullResponse = open('maps.json')\n",
    "data = json.load(fullResponse)\n",
    "\n",
    "displayNames = []\n",
    "for i in data['data']: displayNames.append(i['displayName'])"
   ]
  },
  {
   "cell_type": "code",
   "execution_count": 11,
   "metadata": {},
   "outputs": [
    {
     "name": "stdout",
     "output_type": "stream",
     "text": [
      "['Ascent', 'Split', 'Fracture', 'Bind', 'Breeze', 'District', 'Kasbah', 'Drift', 'Piazza', 'Lotus', 'Sunset', 'Pearl', 'Icebox', 'The Range', 'Haven']\n"
     ]
    },
    {
     "data": {
      "text/plain": [
       "['The Range']"
      ]
     },
     "execution_count": 11,
     "metadata": {},
     "output_type": "execute_result"
    }
   ],
   "source": [
    "print(displayNames)\n",
    "\n",
    "find_similar_words(displayNames,'th rage',2)"
   ]
  }
 ],
 "metadata": {
  "kernelspec": {
   "display_name": "Python 3",
   "language": "python",
   "name": "python3"
  },
  "language_info": {
   "codemirror_mode": {
    "name": "ipython",
    "version": 3
   },
   "file_extension": ".py",
   "mimetype": "text/x-python",
   "name": "python",
   "nbconvert_exporter": "python",
   "pygments_lexer": "ipython3",
   "version": "3.12.3"
  }
 },
 "nbformat": 4,
 "nbformat_minor": 2
}
